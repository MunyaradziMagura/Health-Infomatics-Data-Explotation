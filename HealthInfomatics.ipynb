{
 "cells": [
  {
   "cell_type": "markdown",
   "metadata": {},
   "source": [
    "# Author and Institution Networks \n",
    "This will be a data exploration of the networks which arrise when we explore the realtionships between and around authors and institiues in health infomatics"
   ]
  },
  {
   "cell_type": "code",
   "execution_count": 1,
   "metadata": {
    "tags": []
   },
   "outputs": [],
   "source": [
    "import numpy as np\n",
    "import networkx as nx\n",
    "import matplotlib.pyplot as plt\n",
    "import pandas as pd\n",
    "from pyvis.network import Network \n",
    "from IPython.display import display"
   ]
  },
  {
   "cell_type": "code",
   "execution_count": null,
   "metadata": {},
   "outputs": [],
   "source": [
    "# import excel document into project\n",
    "df = pd.read_csv(r\"C:\\Users\\University\\Downloads\\review_data.csv\",skipinitialspace = True)\n",
    "df = pd.DataFrame(df)"
   ]
  },
  {
   "cell_type": "code",
   "execution_count": null,
   "metadata": {},
   "outputs": [],
   "source": [
    "# List of columns to delete and then dropping them.\n",
    "delete = ['Study ID','Covidence #','Reviewer Name','Title','Title.1','Type of publication','Study design','Architecture of the Digital Twin','Level of maturity','What is the purpose of the Digital twin', 'Application domain',  ]\n",
    "df.drop(delete, axis=1, inplace=True)"
   ]
  },
  {
   "cell_type": "code",
   "execution_count": null,
   "metadata": {},
   "outputs": [],
   "source": [
    "# move authors into their own rows\n",
    "df['List of authors'] = df['List of authors'].str.split(';')\n",
    "df = df.explode('List of authors')\n",
    "# remove rows where 'List of authors' is null\n",
    "df.dropna(subset=['List of authors'],inplace=True)\n",
    "# remove rows where the length of the name is less than 1\n",
    "df = df[df['List of authors'].str.len() >= 1]\n",
    "display(df)"
   ]
  }
 ],
 "metadata": {
  "kernelspec": {
   "display_name": "Python 3 (ipykernel)",
   "language": "python",
   "name": "python3"
  },
  "language_info": {
   "codemirror_mode": {
    "name": "ipython",
    "version": 3
   },
   "file_extension": ".py",
   "mimetype": "text/x-python",
   "name": "python",
   "nbconvert_exporter": "python",
   "pygments_lexer": "ipython3",
   "version": "3.10.5"
  }
 },
 "nbformat": 4,
 "nbformat_minor": 4
}
