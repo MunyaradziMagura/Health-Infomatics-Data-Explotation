{
 "cells": [
  {
   "cell_type": "markdown",
   "metadata": {},
   "source": [
    "# Author and Institution Networks \n",
    "This will be a data exploration of the networks which arrise when we explore the realtionships between and around authors and institiues in health infomatics"
   ]
  },
  {
   "cell_type": "code",
   "execution_count": 1,
   "metadata": {
    "tags": []
   },
   "outputs": [],
   "source": [
    "import numpy as np\n",
    "import networkx as nx\n",
    "import matplotlib.pyplot as plt\n",
    "import pandas as pd\n",
    "from pyvis.network import Network \n",
    "from IPython.display import display"
   ]
  },
  {
   "cell_type": "code",
   "execution_count": null,
   "metadata": {},
   "outputs": [],
   "source": [
    "# import excel document into project\n",
    "df = pd.read_csv(r\"C:\\Users\\University\\Downloads\\review_data.csv\",skipinitialspace = True)\n",
    "df = pd.DataFrame(df)"
   ]
  },
  {
   "cell_type": "code",
   "execution_count": null,
   "metadata": {},
   "outputs": [],
   "source": [
    "# List of columns to delete and then dropping them.\n",
    "delete = ['Study ID','Covidence #','Reviewer Name','Title','Title.1','Type of publication','Study design','Architecture of the Digital Twin','Level of maturity','What is the purpose of the Digital twin', 'Application domain',  ]\n",
    "df.drop(delete, axis=1, inplace=True)"
   ]
  },
  {
   "cell_type": "code",
   "execution_count": null,
   "metadata": {},
   "outputs": [],
   "source": [
    "# move authors into their own rows\n",
    "df['List of authors'] = df['List of authors'].str.split(';')\n",
    "df = df.explode('List of authors')\n",
    "# remove rows where 'List of authors' is null\n",
    "df.dropna(subset=['List of authors'],inplace=True)\n",
    "# remove rows where the length of the name is less than 1\n",
    "df = df[df['List of authors'].str.len() >= 1]\n",
    "display(df)"
   ]
  },
  {
   "cell_type": "code",
   "execution_count": null,
   "metadata": {},
   "outputs": [],
   "source": [
    "\n",
    "# Step 1: Extract authors and co-authors\n",
    "authors = df['List of authors'].tolist()\n",
    "co_authors = df.groupby('Study ID.1')['List of authors'].apply(lambda x: x.tolist()).tolist()\n",
    "\n",
    "# Step 2: Create a graph object\n",
    "G = nx.Graph()\n",
    "\n",
    "# Step 3: Add nodes\n",
    "G.add_nodes_from(authors)\n",
    "\n",
    "# Step 4: Add edges\n",
    "for co_author_list in co_authors:\n",
    "    for i in range(len(co_author_list)):\n",
    "        for j in range(i+1, len(co_author_list)):\n",
    "            author1 = co_author_list[i]\n",
    "            author2 = co_author_list[j]\n",
    "            if G.has_edge(author1, author2):\n",
    "                # Increment edge weight if authors collaborated on multiple studies\n",
    "                G[author1][author2]['weight'] += 1\n",
    "            else:\n",
    "                G.add_edge(author1, author2, weight=1)\n",
    "\n",
    "# Step 5: Customize visualization\n",
    "country_labels = df['Country in which the study conducted'].unique()\n",
    "country_to_label = {country: label for label, country in enumerate(country_labels)}\n",
    "node_colors = [country_to_label[df.loc[df['List of authors'] == author]['Country in which the study conducted'].iloc[0]] for author in G.nodes()]\n",
    "\n",
    "node_sizes = [df.loc[df['List of authors'] == author].shape[0] for author in G.nodes()]  # Use number of studies as node sizes\n",
    "\n",
    "# Step 6: Position nodes\n",
    "pos = nx.kamada_kawai_layout(G)\n",
    "\n",
    "# Step 7: Render and display the graph\n",
    "plt.figure(figsize=(10, 10))\n",
    "nx.draw_networkx(G, pos, node_color=node_colors, node_size=node_sizes, cmap='viridis')\n",
    "plt.title('Authors Network')\n",
    "plt.axis('off')\n",
    "plt.show()\n"
   ]
  }
 ],
 "metadata": {
  "kernelspec": {
   "display_name": "Python 3 (ipykernel)",
   "language": "python",
   "name": "python3"
  },
  "language_info": {
   "codemirror_mode": {
    "name": "ipython",
    "version": 3
   },
   "file_extension": ".py",
   "mimetype": "text/x-python",
   "name": "python",
   "nbconvert_exporter": "python",
   "pygments_lexer": "ipython3",
   "version": "3.10.5"
  }
 },
 "nbformat": 4,
 "nbformat_minor": 4
}
